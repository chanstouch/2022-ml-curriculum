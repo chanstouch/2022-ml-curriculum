{
 "cells": [
  {
   "cell_type": "code",
   "execution_count": 1,
   "metadata": {},
   "outputs": [],
   "source": [
    "#Importing all the necessarylibraries\n",
    "import numpy as np\n",
    "import pandas as pd\n",
    "import matplotlib.pyplot as plt\n",
    "import seaborn as sns\n",
    "\n",
    "#Importing the warnings\n",
    "import warnings\n",
    "warnings.filterwarnings('ignore')"
   ]
  },
  {
   "cell_type": "code",
   "execution_count": 2,
   "metadata": {},
   "outputs": [],
   "source": [
    "#pip install openpyxl"
   ]
  },
  {
   "cell_type": "code",
   "execution_count": 3,
   "metadata": {},
   "outputs": [],
   "source": [
    "import openpyxl"
   ]
  },
  {
   "cell_type": "code",
   "execution_count": 4,
   "metadata": {},
   "outputs": [
    {
     "data": {
      "text/html": [
       "<div>\n",
       "<style scoped>\n",
       "    .dataframe tbody tr th:only-of-type {\n",
       "        vertical-align: middle;\n",
       "    }\n",
       "\n",
       "    .dataframe tbody tr th {\n",
       "        vertical-align: top;\n",
       "    }\n",
       "\n",
       "    .dataframe thead th {\n",
       "        text-align: right;\n",
       "    }\n",
       "</style>\n",
       "<table border=\"1\" class=\"dataframe\">\n",
       "  <thead>\n",
       "    <tr style=\"text-align: right;\">\n",
       "      <th></th>\n",
       "      <th>ID</th>\n",
       "      <th>Estimated_Insects_Count</th>\n",
       "      <th>Crop_Type</th>\n",
       "      <th>Soil_Type</th>\n",
       "      <th>Pesticide_Use_Category</th>\n",
       "      <th>Number_Doses_Week</th>\n",
       "      <th>Number_Weeks_Used</th>\n",
       "      <th>Number_Weeks_Quit</th>\n",
       "      <th>Season</th>\n",
       "      <th>Crop_Damage</th>\n",
       "      <th>source</th>\n",
       "    </tr>\n",
       "  </thead>\n",
       "  <tbody>\n",
       "    <tr>\n",
       "      <th>0</th>\n",
       "      <td>F00000001</td>\n",
       "      <td>188</td>\n",
       "      <td>1</td>\n",
       "      <td>0</td>\n",
       "      <td>1</td>\n",
       "      <td>0</td>\n",
       "      <td>0.0</td>\n",
       "      <td>0</td>\n",
       "      <td>1</td>\n",
       "      <td>0</td>\n",
       "      <td>train</td>\n",
       "    </tr>\n",
       "    <tr>\n",
       "      <th>1</th>\n",
       "      <td>F00000003</td>\n",
       "      <td>209</td>\n",
       "      <td>1</td>\n",
       "      <td>0</td>\n",
       "      <td>1</td>\n",
       "      <td>0</td>\n",
       "      <td>0.0</td>\n",
       "      <td>0</td>\n",
       "      <td>2</td>\n",
       "      <td>1</td>\n",
       "      <td>train</td>\n",
       "    </tr>\n",
       "    <tr>\n",
       "      <th>2</th>\n",
       "      <td>F00000004</td>\n",
       "      <td>257</td>\n",
       "      <td>1</td>\n",
       "      <td>0</td>\n",
       "      <td>1</td>\n",
       "      <td>0</td>\n",
       "      <td>0.0</td>\n",
       "      <td>0</td>\n",
       "      <td>2</td>\n",
       "      <td>1</td>\n",
       "      <td>train</td>\n",
       "    </tr>\n",
       "    <tr>\n",
       "      <th>3</th>\n",
       "      <td>F00000005</td>\n",
       "      <td>257</td>\n",
       "      <td>1</td>\n",
       "      <td>1</td>\n",
       "      <td>1</td>\n",
       "      <td>0</td>\n",
       "      <td>0.0</td>\n",
       "      <td>0</td>\n",
       "      <td>2</td>\n",
       "      <td>1</td>\n",
       "      <td>train</td>\n",
       "    </tr>\n",
       "    <tr>\n",
       "      <th>4</th>\n",
       "      <td>F00000006</td>\n",
       "      <td>342</td>\n",
       "      <td>1</td>\n",
       "      <td>0</td>\n",
       "      <td>1</td>\n",
       "      <td>0</td>\n",
       "      <td>0.0</td>\n",
       "      <td>0</td>\n",
       "      <td>2</td>\n",
       "      <td>1</td>\n",
       "      <td>train</td>\n",
       "    </tr>\n",
       "  </tbody>\n",
       "</table>\n",
       "</div>"
      ],
      "text/plain": [
       "          ID  Estimated_Insects_Count  Crop_Type  Soil_Type  \\\n",
       "0  F00000001                      188          1          0   \n",
       "1  F00000003                      209          1          0   \n",
       "2  F00000004                      257          1          0   \n",
       "3  F00000005                      257          1          1   \n",
       "4  F00000006                      342          1          0   \n",
       "\n",
       "   Pesticide_Use_Category  Number_Doses_Week  Number_Weeks_Used  \\\n",
       "0                       1                  0                0.0   \n",
       "1                       1                  0                0.0   \n",
       "2                       1                  0                0.0   \n",
       "3                       1                  0                0.0   \n",
       "4                       1                  0                0.0   \n",
       "\n",
       "   Number_Weeks_Quit  Season  Crop_Damage source  \n",
       "0                  0       1            0  train  \n",
       "1                  0       2            1  train  \n",
       "2                  0       2            1  train  \n",
       "3                  0       2            1  train  \n",
       "4                  0       2            1  train  "
      ]
     },
     "execution_count": 4,
     "metadata": {},
     "output_type": "execute_result"
    }
   ],
   "source": [
    "#Loading the dataset\n",
    "train = pd.read_csv(\"../data/agriculture/train_agriculture.csv\")\n",
    "train[\"source\"]=\"train\"\n",
    "\n",
    "df = train\n",
    "df.head()"
   ]
  },
  {
   "cell_type": "code",
   "execution_count": 5,
   "metadata": {},
   "outputs": [
    {
     "data": {
      "text/plain": [
       "['Sheet1']"
      ]
     },
     "execution_count": 5,
     "metadata": {},
     "output_type": "execute_result"
    }
   ],
   "source": [
    "wb = openpyxl.load_workbook(\"../data/agriculture/test_agriculture.xlsx\")\n",
    "wb.get_sheet_names()"
   ]
  },
  {
   "cell_type": "code",
   "execution_count": 6,
   "metadata": {},
   "outputs": [
    {
     "data": {
      "text/html": [
       "<div>\n",
       "<style scoped>\n",
       "    .dataframe tbody tr th:only-of-type {\n",
       "        vertical-align: middle;\n",
       "    }\n",
       "\n",
       "    .dataframe tbody tr th {\n",
       "        vertical-align: top;\n",
       "    }\n",
       "\n",
       "    .dataframe thead th {\n",
       "        text-align: right;\n",
       "    }\n",
       "</style>\n",
       "<table border=\"1\" class=\"dataframe\">\n",
       "  <thead>\n",
       "    <tr style=\"text-align: right;\">\n",
       "      <th></th>\n",
       "      <th>0</th>\n",
       "      <th>1</th>\n",
       "      <th>2</th>\n",
       "      <th>3</th>\n",
       "      <th>4</th>\n",
       "      <th>5</th>\n",
       "      <th>6</th>\n",
       "      <th>7</th>\n",
       "      <th>8</th>\n",
       "      <th>source</th>\n",
       "    </tr>\n",
       "  </thead>\n",
       "  <tbody>\n",
       "    <tr>\n",
       "      <th>0</th>\n",
       "      <td>ID</td>\n",
       "      <td>Estimated_Insects_Count</td>\n",
       "      <td>Crop_Type</td>\n",
       "      <td>Soil_Type</td>\n",
       "      <td>Pesticide_Use_Category</td>\n",
       "      <td>Number_Doses_Week</td>\n",
       "      <td>Number_Weeks_Used</td>\n",
       "      <td>Number_Weeks_Quit</td>\n",
       "      <td>Season</td>\n",
       "      <td>test</td>\n",
       "    </tr>\n",
       "    <tr>\n",
       "      <th>1</th>\n",
       "      <td>F00000002</td>\n",
       "      <td>188</td>\n",
       "      <td>1</td>\n",
       "      <td>1</td>\n",
       "      <td>1</td>\n",
       "      <td>0</td>\n",
       "      <td>None</td>\n",
       "      <td>0</td>\n",
       "      <td>2</td>\n",
       "      <td>test</td>\n",
       "    </tr>\n",
       "    <tr>\n",
       "      <th>2</th>\n",
       "      <td>F00000007</td>\n",
       "      <td>410</td>\n",
       "      <td>1</td>\n",
       "      <td>1</td>\n",
       "      <td>1</td>\n",
       "      <td>0</td>\n",
       "      <td>0</td>\n",
       "      <td>0</td>\n",
       "      <td>2</td>\n",
       "      <td>test</td>\n",
       "    </tr>\n",
       "    <tr>\n",
       "      <th>3</th>\n",
       "      <td>F00000011</td>\n",
       "      <td>626</td>\n",
       "      <td>1</td>\n",
       "      <td>0</td>\n",
       "      <td>1</td>\n",
       "      <td>0</td>\n",
       "      <td>0</td>\n",
       "      <td>0</td>\n",
       "      <td>2</td>\n",
       "      <td>test</td>\n",
       "    </tr>\n",
       "    <tr>\n",
       "      <th>4</th>\n",
       "      <td>F00000013</td>\n",
       "      <td>731</td>\n",
       "      <td>1</td>\n",
       "      <td>0</td>\n",
       "      <td>1</td>\n",
       "      <td>0</td>\n",
       "      <td>0</td>\n",
       "      <td>0</td>\n",
       "      <td>2</td>\n",
       "      <td>test</td>\n",
       "    </tr>\n",
       "  </tbody>\n",
       "</table>\n",
       "</div>"
      ],
      "text/plain": [
       "           0                        1          2          3  \\\n",
       "0         ID  Estimated_Insects_Count  Crop_Type  Soil_Type   \n",
       "1  F00000002                      188          1          1   \n",
       "2  F00000007                      410          1          1   \n",
       "3  F00000011                      626          1          0   \n",
       "4  F00000013                      731          1          0   \n",
       "\n",
       "                        4                  5                  6  \\\n",
       "0  Pesticide_Use_Category  Number_Doses_Week  Number_Weeks_Used   \n",
       "1                       1                  0               None   \n",
       "2                       1                  0                  0   \n",
       "3                       1                  0                  0   \n",
       "4                       1                  0                  0   \n",
       "\n",
       "                   7       8 source  \n",
       "0  Number_Weeks_Quit  Season   test  \n",
       "1                  0       2   test  \n",
       "2                  0       2   test  \n",
       "3                  0       2   test  \n",
       "4                  0       2   test  "
      ]
     },
     "execution_count": 6,
     "metadata": {},
     "output_type": "execute_result"
    }
   ],
   "source": [
    "ws = wb['Sheet1']\n",
    "test = pd.DataFrame(ws.values)\n",
    "test[\"source\"]=\"test\"\n",
    "\n",
    "test.head()\n"
   ]
  },
  {
   "cell_type": "markdown",
   "metadata": {},
   "source": [
    "아래것 표로 만들어서 보기 좋게 만들기"
   ]
  },
  {
   "cell_type": "code",
   "execution_count": 7,
   "metadata": {},
   "outputs": [
    {
     "name": "stdout",
     "output_type": "stream",
     "text": [
      "ID\n",
      "88858\n",
      "==================\n",
      "Estimated_Insects_Count\n",
      "71\n",
      "==================\n",
      "Crop_Type\n",
      "2\n",
      "[1 0]\n",
      "==================\n",
      "Soil_Type\n",
      "2\n",
      "[0 1]\n",
      "==================\n",
      "Pesticide_Use_Category\n",
      "3\n",
      "[1 3 2]\n",
      "==================\n",
      "Number_Doses_Week\n",
      "20\n",
      "==================\n",
      "Number_Weeks_Used\n",
      "65\n",
      "==================\n",
      "Number_Weeks_Quit\n",
      "51\n",
      "==================\n",
      "Season\n",
      "3\n",
      "[1 2 3]\n",
      "==================\n",
      "Crop_Damage\n",
      "3\n",
      "[0 1 2]\n",
      "==================\n",
      "source\n",
      "1\n",
      "['train']\n",
      "==================\n"
     ]
    }
   ],
   "source": [
    "# train df의 컬럼별 unique값\n",
    "for i in df.columns:\n",
    "    unq = df[i].unique()\n",
    "    print(\"%s\\n%d\"%(i,len(unq)))\n",
    "    \n",
    "    if len(unq)<5:\n",
    "        print(unq)\n",
    "    print(\"==================\")"
   ]
  },
  {
   "cell_type": "code",
   "execution_count": 8,
   "metadata": {},
   "outputs": [
    {
     "data": {
      "text/plain": [
       "ID                         88858\n",
       "Estimated_Insects_Count       71\n",
       "Crop_Type                      2\n",
       "Soil_Type                      2\n",
       "Pesticide_Use_Category         3\n",
       "Number_Doses_Week             20\n",
       "Number_Weeks_Used             64\n",
       "Number_Weeks_Quit             51\n",
       "Season                         3\n",
       "Crop_Damage                    3\n",
       "source                         1\n",
       "dtype: int64"
      ]
     },
     "execution_count": 8,
     "metadata": {},
     "output_type": "execute_result"
    }
   ],
   "source": [
    "# nunique(): 고유값의 수를 출력하는 함수\n",
    "df.nunique()"
   ]
  },
  {
   "cell_type": "code",
   "execution_count": 9,
   "metadata": {},
   "outputs": [
    {
     "data": {
      "text/plain": [
       "Index(['ID', 'Estimated_Insects_Count', 'Crop_Type', 'Soil_Type',\n",
       "       'Pesticide_Use_Category', 'Number_Doses_Week', 'Number_Weeks_Used',\n",
       "       'Number_Weeks_Quit', 'Season', 'Crop_Damage', 'source'],\n",
       "      dtype='object')"
      ]
     },
     "execution_count": 9,
     "metadata": {},
     "output_type": "execute_result"
    }
   ],
   "source": [
    "df.columns"
   ]
  },
  {
   "cell_type": "code",
   "execution_count": 10,
   "metadata": {},
   "outputs": [
    {
     "data": {
      "text/plain": [
       "(88858, 11)"
      ]
     },
     "execution_count": 10,
     "metadata": {},
     "output_type": "execute_result"
    }
   ],
   "source": [
    "df.shape"
   ]
  },
  {
   "cell_type": "code",
   "execution_count": 11,
   "metadata": {},
   "outputs": [
    {
     "data": {
      "text/plain": [
       "ID                            0\n",
       "Estimated_Insects_Count       0\n",
       "Crop_Type                     0\n",
       "Soil_Type                     0\n",
       "Pesticide_Use_Category        0\n",
       "Number_Doses_Week             0\n",
       "Number_Weeks_Used          9000\n",
       "Number_Weeks_Quit             0\n",
       "Season                        0\n",
       "Crop_Damage                   0\n",
       "source                        0\n",
       "dtype: int64"
      ]
     },
     "execution_count": 11,
     "metadata": {},
     "output_type": "execute_result"
    }
   ],
   "source": [
    "# null값 확인\n",
    "df.isnull().sum()"
   ]
  },
  {
   "cell_type": "code",
   "execution_count": 12,
   "metadata": {},
   "outputs": [],
   "source": [
    "# 평균 값으로 대체\n",
    "df['Number_Weeks_Used'].fillna(df['Number_Weeks_Used'].mean(),inplace=True)"
   ]
  },
  {
   "cell_type": "code",
   "execution_count": 13,
   "metadata": {},
   "outputs": [
    {
     "data": {
      "text/plain": [
       "ID                         0\n",
       "Estimated_Insects_Count    0\n",
       "Crop_Type                  0\n",
       "Soil_Type                  0\n",
       "Pesticide_Use_Category     0\n",
       "Number_Doses_Week          0\n",
       "Number_Weeks_Used          0\n",
       "Number_Weeks_Quit          0\n",
       "Season                     0\n",
       "Crop_Damage                0\n",
       "source                     0\n",
       "dtype: int64"
      ]
     },
     "execution_count": 13,
     "metadata": {},
     "output_type": "execute_result"
    }
   ],
   "source": [
    "# null값 다시 확인\n",
    "df.isnull().sum()"
   ]
  },
  {
   "cell_type": "code",
   "execution_count": 14,
   "metadata": {},
   "outputs": [
    {
     "data": {
      "text/plain": [
       "ID                          object\n",
       "Estimated_Insects_Count      int64\n",
       "Crop_Type                    int64\n",
       "Soil_Type                    int64\n",
       "Pesticide_Use_Category       int64\n",
       "Number_Doses_Week            int64\n",
       "Number_Weeks_Used          float64\n",
       "Number_Weeks_Quit            int64\n",
       "Season                       int64\n",
       "Crop_Damage                  int64\n",
       "source                      object\n",
       "dtype: object"
      ]
     },
     "execution_count": 14,
     "metadata": {},
     "output_type": "execute_result"
    }
   ],
   "source": [
    "# dtype 확인\n",
    "df.dtypes"
   ]
  },
  {
   "cell_type": "markdown",
   "metadata": {},
   "source": [
    "- ID를 숫자로\n",
    "- Number_Weeks_Used가 float임"
   ]
  },
  {
   "cell_type": "code",
   "execution_count": 15,
   "metadata": {},
   "outputs": [
    {
     "data": {
      "text/plain": [
       "<Figure size 864x360 with 0 Axes>"
      ]
     },
     "metadata": {},
     "output_type": "display_data"
    },
    {
     "data": {
      "image/png": "[encoded data removed]",
      "text/plain": [
       "<Figure size 418.75x360 with 1 Axes>"
      ]
     },
     "metadata": {
      "needs_background": "light"
     },
     "output_type": "display_data"
    }
   ],
   "source": [
    "plt.figure(figsize=(12,5))\n",
    "sns.catplot(x='Crop_Damage', data=df, palette=\"hls\",kind='count',hue='Crop_Type')\n",
    "plt.xlabel(\"Crop_Damage\", fontsize=16)\n",
    "plt.ylabel(\"Count\", fontsize=16)\n",
    "plt.title(\"Crop_Type Grouped Count\", fontsize=20)\n",
    "plt.xticks(rotation=45)\n",
    "plt.show()"
   ]
  },
  {
   "cell_type": "code",
   "execution_count": 16,
   "metadata": {},
   "outputs": [
    {
     "data": {
      "text/plain": [
       "Text(0.5, 1.0, 'Crop Damage vs Pesticide Use Category ')"
      ]
     },
     "execution_count": 16,
     "metadata": {},
     "output_type": "execute_result"
    },
    {
     "data": {
      "image/png": "[encoded data removed]",
      "text/plain": [
       "<Figure size 1080x360 with 3 Axes>"
      ]
     },
     "metadata": {
      "needs_background": "light"
     },
     "output_type": "display_data"
    }
   ],
   "source": [
    "fig, [ax1,ax2,ax3] = plt.subplots(nrows=1,ncols=3,figsize=(15,5))\n",
    "ax1=sns.countplot(x=\"Crop_Damage\" ,hue=\"Pesticide_Use_Category\",data=df[df[\"Crop_Damage\"]==0],ax=ax1)\n",
    "ax1.set_title(\"Crop Damage vs Insect Count for Crop Type\")\n",
    "ax2=sns.countplot(x=\"Crop_Damage\" ,hue=\"Pesticide_Use_Category\",data=df[df[\"Crop_Damage\"]==1],ax=ax2)\n",
    "ax2.set_title(\"Crop Damage vs Number Week Used\")\n",
    "ax3=sns.countplot(x=\"Crop_Damage\" ,hue=\"Pesticide_Use_Category\",data=df[df[\"Crop_Damage\"]==2],ax=ax3)\n",
    "ax3.set_title(\"Crop Damage vs Pesticide Use Category \")"
   ]
  },
  {
   "cell_type": "code",
   "execution_count": 17,
   "metadata": {},
   "outputs": [
    {
     "data": {
      "text/plain": [
       "<Figure size 864x360 with 0 Axes>"
      ]
     },
     "metadata": {},
     "output_type": "display_data"
    },
    {
     "data": {
      "image/png": "[encoded data removed]",
      "text/plain": [
       "<Figure size 1080x360 with 3 Axes>"
      ]
     },
     "metadata": {
      "needs_background": "light"
     },
     "output_type": "display_data"
    }
   ],
   "source": [
    "plt.figure(figsize=(12,5))\n",
    "g= sns.FacetGrid(df, col='Crop_Damage',size=5)\n",
    "g = g.map(sns.distplot, \"Number_Weeks_Used\")\n",
    "plt.show()"
   ]
  },
  {
   "cell_type": "code",
   "execution_count": 18,
   "metadata": {},
   "outputs": [
    {
     "data": {
      "text/plain": [
       "<AxesSubplot:xlabel='Crop_Damage', ylabel='Estimated_Insects_Count'>"
      ]
     },
     "execution_count": 18,
     "metadata": {},
     "output_type": "execute_result"
    },
    {
     "data": {
      "image/png": "[encoded data removed]",
      "text/plain": [
       "<Figure size 432x288 with 1 Axes>"
      ]
     },
     "metadata": {
      "needs_background": "light"
     },
     "output_type": "display_data"
    }
   ],
   "source": [
    "sns.barplot(x=\"Crop_Damage\" ,y=\"Estimated_Insects_Count\",hue=\"Crop_Type\",data=df)"
   ]
  },
  {
   "cell_type": "code",
   "execution_count": 19,
   "metadata": {},
   "outputs": [
    {
     "data": {
      "text/plain": [
       "<Figure size 864x360 with 0 Axes>"
      ]
     },
     "metadata": {},
     "output_type": "display_data"
    },
    {
     "data": {
      "image/png": "[encoded data removed]",
      "text/plain": [
       "<Figure size 1080x360 with 3 Axes>"
      ]
     },
     "metadata": {
      "needs_background": "light"
     },
     "output_type": "display_data"
    }
   ],
   "source": [
    "plt.figure(figsize=(12,5))\n",
    "sns.catplot(x='Crop_Type',y='Number_Weeks_Used', data=df, palette=\"hls\",kind='bar',col='Crop_Damage')\n",
    "plt.xticks(rotation=45)\n",
    "plt.show()"
   ]
  },
  {
   "cell_type": "markdown",
   "metadata": {},
   "source": [
    "### 이상치"
   ]
  },
  {
   "cell_type": "code",
   "execution_count": 20,
   "metadata": {},
   "outputs": [
    {
     "data": {
      "text/html": [
       "<div>\n",
       "<style scoped>\n",
       "    .dataframe tbody tr th:only-of-type {\n",
       "        vertical-align: middle;\n",
       "    }\n",
       "\n",
       "    .dataframe tbody tr th {\n",
       "        vertical-align: top;\n",
       "    }\n",
       "\n",
       "    .dataframe thead th {\n",
       "        text-align: right;\n",
       "    }\n",
       "</style>\n",
       "<table border=\"1\" class=\"dataframe\">\n",
       "  <thead>\n",
       "    <tr style=\"text-align: right;\">\n",
       "      <th></th>\n",
       "      <th>Estimated_Insects_Count</th>\n",
       "      <th>Crop_Type</th>\n",
       "      <th>Soil_Type</th>\n",
       "      <th>Pesticide_Use_Category</th>\n",
       "      <th>Number_Doses_Week</th>\n",
       "      <th>Number_Weeks_Used</th>\n",
       "      <th>Number_Weeks_Quit</th>\n",
       "      <th>Season</th>\n",
       "      <th>Crop_Damage</th>\n",
       "    </tr>\n",
       "  </thead>\n",
       "  <tbody>\n",
       "    <tr>\n",
       "      <th>count</th>\n",
       "      <td>88858.000000</td>\n",
       "      <td>88858.000000</td>\n",
       "      <td>88858.000000</td>\n",
       "      <td>88858.000000</td>\n",
       "      <td>88858.000000</td>\n",
       "      <td>88858.000000</td>\n",
       "      <td>88858.000000</td>\n",
       "      <td>88858.000000</td>\n",
       "      <td>88858.000000</td>\n",
       "    </tr>\n",
       "    <tr>\n",
       "      <th>mean</th>\n",
       "      <td>1399.012210</td>\n",
       "      <td>0.284375</td>\n",
       "      <td>0.458417</td>\n",
       "      <td>2.264186</td>\n",
       "      <td>25.849952</td>\n",
       "      <td>28.623970</td>\n",
       "      <td>9.589986</td>\n",
       "      <td>1.896959</td>\n",
       "      <td>0.190562</td>\n",
       "    </tr>\n",
       "    <tr>\n",
       "      <th>std</th>\n",
       "      <td>849.048781</td>\n",
       "      <td>0.451119</td>\n",
       "      <td>0.498271</td>\n",
       "      <td>0.461772</td>\n",
       "      <td>15.554428</td>\n",
       "      <td>11.747567</td>\n",
       "      <td>9.900631</td>\n",
       "      <td>0.701322</td>\n",
       "      <td>0.454215</td>\n",
       "    </tr>\n",
       "    <tr>\n",
       "      <th>min</th>\n",
       "      <td>150.000000</td>\n",
       "      <td>0.000000</td>\n",
       "      <td>0.000000</td>\n",
       "      <td>1.000000</td>\n",
       "      <td>0.000000</td>\n",
       "      <td>0.000000</td>\n",
       "      <td>0.000000</td>\n",
       "      <td>1.000000</td>\n",
       "      <td>0.000000</td>\n",
       "    </tr>\n",
       "    <tr>\n",
       "      <th>25%</th>\n",
       "      <td>731.000000</td>\n",
       "      <td>0.000000</td>\n",
       "      <td>0.000000</td>\n",
       "      <td>2.000000</td>\n",
       "      <td>15.000000</td>\n",
       "      <td>20.000000</td>\n",
       "      <td>0.000000</td>\n",
       "      <td>1.000000</td>\n",
       "      <td>0.000000</td>\n",
       "    </tr>\n",
       "    <tr>\n",
       "      <th>50%</th>\n",
       "      <td>1212.000000</td>\n",
       "      <td>0.000000</td>\n",
       "      <td>0.000000</td>\n",
       "      <td>2.000000</td>\n",
       "      <td>20.000000</td>\n",
       "      <td>28.623970</td>\n",
       "      <td>7.000000</td>\n",
       "      <td>2.000000</td>\n",
       "      <td>0.000000</td>\n",
       "    </tr>\n",
       "    <tr>\n",
       "      <th>75%</th>\n",
       "      <td>1898.000000</td>\n",
       "      <td>1.000000</td>\n",
       "      <td>1.000000</td>\n",
       "      <td>3.000000</td>\n",
       "      <td>40.000000</td>\n",
       "      <td>36.000000</td>\n",
       "      <td>16.000000</td>\n",
       "      <td>2.000000</td>\n",
       "      <td>0.000000</td>\n",
       "    </tr>\n",
       "    <tr>\n",
       "      <th>max</th>\n",
       "      <td>4097.000000</td>\n",
       "      <td>1.000000</td>\n",
       "      <td>1.000000</td>\n",
       "      <td>3.000000</td>\n",
       "      <td>95.000000</td>\n",
       "      <td>67.000000</td>\n",
       "      <td>50.000000</td>\n",
       "      <td>3.000000</td>\n",
       "      <td>2.000000</td>\n",
       "    </tr>\n",
       "  </tbody>\n",
       "</table>\n",
       "</div>"
      ],
      "text/plain": [
       "       Estimated_Insects_Count     Crop_Type     Soil_Type  \\\n",
       "count             88858.000000  88858.000000  88858.000000   \n",
       "mean               1399.012210      0.284375      0.458417   \n",
       "std                 849.048781      0.451119      0.498271   \n",
       "min                 150.000000      0.000000      0.000000   \n",
       "25%                 731.000000      0.000000      0.000000   \n",
       "50%                1212.000000      0.000000      0.000000   \n",
       "75%                1898.000000      1.000000      1.000000   \n",
       "max                4097.000000      1.000000      1.000000   \n",
       "\n",
       "       Pesticide_Use_Category  Number_Doses_Week  Number_Weeks_Used  \\\n",
       "count            88858.000000       88858.000000       88858.000000   \n",
       "mean                 2.264186          25.849952          28.623970   \n",
       "std                  0.461772          15.554428          11.747567   \n",
       "min                  1.000000           0.000000           0.000000   \n",
       "25%                  2.000000          15.000000          20.000000   \n",
       "50%                  2.000000          20.000000          28.623970   \n",
       "75%                  3.000000          40.000000          36.000000   \n",
       "max                  3.000000          95.000000          67.000000   \n",
       "\n",
       "       Number_Weeks_Quit        Season   Crop_Damage  \n",
       "count       88858.000000  88858.000000  88858.000000  \n",
       "mean            9.589986      1.896959      0.190562  \n",
       "std             9.900631      0.701322      0.454215  \n",
       "min             0.000000      1.000000      0.000000  \n",
       "25%             0.000000      1.000000      0.000000  \n",
       "50%             7.000000      2.000000      0.000000  \n",
       "75%            16.000000      2.000000      0.000000  \n",
       "max            50.000000      3.000000      2.000000  "
      ]
     },
     "execution_count": 20,
     "metadata": {},
     "output_type": "execute_result"
    }
   ],
   "source": [
    "df.describe()"
   ]
  },
  {
   "cell_type": "markdown",
   "metadata": {},
   "source": [
    "- insect_count\n",
    "- doses_week\n",
    "- number_weeks_quit"
   ]
  },
  {
   "cell_type": "code",
   "execution_count": 21,
   "metadata": {},
   "outputs": [
    {
     "data": {
      "text/plain": [
       "Estimated_Insects_Count      int64\n",
       "Crop_Type                    int64\n",
       "Soil_Type                    int64\n",
       "Pesticide_Use_Category       int64\n",
       "Number_Doses_Week            int64\n",
       "Number_Weeks_Used          float64\n",
       "Number_Weeks_Quit            int64\n",
       "Season                       int64\n",
       "Crop_Damage                  int64\n",
       "dtype: object"
      ]
     },
     "execution_count": 21,
     "metadata": {},
     "output_type": "execute_result"
    }
   ],
   "source": [
    "df.drop(columns=[\"ID\",\"source\"],axis=1,inplace=True)\n",
    "df.dtypes"
   ]
  },
  {
   "cell_type": "code",
   "execution_count": 22,
   "metadata": {},
   "outputs": [
    {
     "data": {
      "text/plain": [
       "Estimated_Insects_Count       AxesSubplot(0.125,0.749828;0.133621x0.130172)\n",
       "Crop_Type                  AxesSubplot(0.285345,0.749828;0.133621x0.130172)\n",
       "Soil_Type                   AxesSubplot(0.44569,0.749828;0.133621x0.130172)\n",
       "Pesticide_Use_Category     AxesSubplot(0.606034,0.749828;0.133621x0.130172)\n",
       "Number_Doses_Week          AxesSubplot(0.766379,0.749828;0.133621x0.130172)\n",
       "Number_Weeks_Used             AxesSubplot(0.125,0.593621;0.133621x0.130172)\n",
       "Number_Weeks_Quit          AxesSubplot(0.285345,0.593621;0.133621x0.130172)\n",
       "Season                      AxesSubplot(0.44569,0.593621;0.133621x0.130172)\n",
       "Crop_Damage                AxesSubplot(0.606034,0.593621;0.133621x0.130172)\n",
       "dtype: object"
      ]
     },
     "execution_count": 22,
     "metadata": {},
     "output_type": "execute_result"
    },
    {
     "data": {
      "image/png": "[encoded data removed]",
      "text/plain": [
       "<Figure size 1080x1080 with 25 Axes>"
      ]
     },
     "metadata": {
      "needs_background": "light"
     },
     "output_type": "display_data"
    }
   ],
   "source": [
    "# box plot\n",
    "df.plot(kind=\"box\",subplots=True,layout=(5,5),figsize=(15,15))"
   ]
  },
  {
   "cell_type": "code",
   "execution_count": 23,
   "metadata": {},
   "outputs": [],
   "source": [
    "# 평균 값으로 대체\n",
    "df.loc[df['Number_Weeks_Used']>55,'Number_Weeks_Used'] = np.mean(df[\"Number_Weeks_Used\"])\n",
    "df.loc[df['Estimated_Insects_Count']>3500,'Estimated_Insects_Count'] = np.mean(df[\"Estimated_Insects_Count\"])\n",
    "df.loc[df['Number_Weeks_Quit']>40,'Number_Weeks_Quit'] = np.mean(df[\"Number_Weeks_Quit\"])\n",
    "df.loc[df['Number_Doses_Week']>80,'Number_Doses_Week'] = np.mean(df[\"Number_Doses_Week\"])\n",
    "    "
   ]
  },
  {
   "cell_type": "code",
   "execution_count": 24,
   "metadata": {},
   "outputs": [
    {
     "data": {
      "text/plain": [
       "Estimated_Insects_Count       AxesSubplot(0.125,0.749828;0.133621x0.130172)\n",
       "Crop_Type                  AxesSubplot(0.285345,0.749828;0.133621x0.130172)\n",
       "Soil_Type                   AxesSubplot(0.44569,0.749828;0.133621x0.130172)\n",
       "Pesticide_Use_Category     AxesSubplot(0.606034,0.749828;0.133621x0.130172)\n",
       "Number_Doses_Week          AxesSubplot(0.766379,0.749828;0.133621x0.130172)\n",
       "Number_Weeks_Used             AxesSubplot(0.125,0.593621;0.133621x0.130172)\n",
       "Number_Weeks_Quit          AxesSubplot(0.285345,0.593621;0.133621x0.130172)\n",
       "Season                      AxesSubplot(0.44569,0.593621;0.133621x0.130172)\n",
       "Crop_Damage                AxesSubplot(0.606034,0.593621;0.133621x0.130172)\n",
       "dtype: object"
      ]
     },
     "execution_count": 24,
     "metadata": {},
     "output_type": "execute_result"
    },
    {
     "data": {
      "image/png": "[encoded data removed]",
      "text/plain": [
       "<Figure size 1080x1080 with 25 Axes>"
      ]
     },
     "metadata": {
      "needs_background": "light"
     },
     "output_type": "display_data"
    }
   ],
   "source": [
    "# box plot\n",
    "df.plot(kind=\"box\",subplots=True,layout=(5,5),figsize=(15,15))"
   ]
  },
  {
   "cell_type": "markdown",
   "metadata": {},
   "source": [
    "### Skew Analysis: 왜도 = 쏠림 현상"
   ]
  },
  {
   "cell_type": "code",
   "execution_count": 25,
   "metadata": {},
   "outputs": [
    {
     "data": {
      "text/plain": [
       "Estimated_Insects_Count    0.647325\n",
       "Crop_Type                  0.955978\n",
       "Soil_Type                  0.166914\n",
       "Pesticide_Use_Category     0.779488\n",
       "Number_Doses_Week          0.911044\n",
       "Number_Weeks_Used          0.117167\n",
       "Number_Weeks_Quit          0.831183\n",
       "Season                     0.145228\n",
       "Crop_Damage                2.367816\n",
       "dtype: float64"
      ]
     },
     "execution_count": 25,
     "metadata": {},
     "output_type": "execute_result"
    }
   ],
   "source": [
    "df.skew()"
   ]
  },
  {
   "cell_type": "code",
   "execution_count": 26,
   "metadata": {},
   "outputs": [
    {
     "data": {
      "text/plain": [
       "array([[<AxesSubplot:title={'center':'Estimated_Insects_Count'}>,\n",
       "        <AxesSubplot:title={'center':'Crop_Type'}>,\n",
       "        <AxesSubplot:title={'center':'Soil_Type'}>,\n",
       "        <AxesSubplot:title={'center':'Pesticide_Use_Category'}>],\n",
       "       [<AxesSubplot:title={'center':'Number_Doses_Week'}>,\n",
       "        <AxesSubplot:title={'center':'Number_Weeks_Used'}>,\n",
       "        <AxesSubplot:title={'center':'Number_Weeks_Quit'}>,\n",
       "        <AxesSubplot:title={'center':'Season'}>],\n",
       "       [<AxesSubplot:title={'center':'Crop_Damage'}>, <AxesSubplot:>,\n",
       "        <AxesSubplot:>, <AxesSubplot:>],\n",
       "       [<AxesSubplot:>, <AxesSubplot:>, <AxesSubplot:>, <AxesSubplot:>]],\n",
       "      dtype=object)"
      ]
     },
     "execution_count": 26,
     "metadata": {},
     "output_type": "execute_result"
    },
    {
     "data": {
      "image/png": "[encoded data removed]",
      "text/plain": [
       "<Figure size 1080x1080 with 16 Axes>"
      ]
     },
     "metadata": {
      "needs_background": "light"
     },
     "output_type": "display_data"
    }
   ],
   "source": [
    "df.hist(figsize=(15,15), layout=(4,4), bins=20)"
   ]
  },
  {
   "cell_type": "code",
   "execution_count": 27,
   "metadata": {},
   "outputs": [],
   "source": [
    "#Importing libraries\n",
    "from sklearn.metrics import accuracy_score,classification_report,confusion_matrix,roc_auc_score,roc_curve\n",
    "from sklearn.linear_model import LogisticRegression\n",
    "from sklearn.naive_bayes import MultinomialNB\n",
    "from sklearn.neighbors import KNeighborsClassifier\n",
    "from sklearn.ensemble import RandomForestClassifier\n",
    "from sklearn.svm import SVC\n",
    "from sklearn.tree import DecisionTreeClassifier\n",
    "from sklearn.ensemble import AdaBoostClassifier,GradientBoostingClassifier\n",
    "from sklearn.model_selection import cross_val_score\n",
    "from scipy.stats import zscore\n",
    "from sklearn.preprocessing import LabelEncoder,StandardScaler\n",
    "from sklearn.model_selection import train_test_split,GridSearchCV\n",
    "from sklearn.decomposition import PCA\n",
    "from sklearn.naive_bayes import GaussianNB"
   ]
  },
  {
   "cell_type": "code",
   "execution_count": 28,
   "metadata": {},
   "outputs": [],
   "source": [
    "# Dropping region and Day from x for classifcation dataset\n",
    "#Assigning the value of x for testing and training\n",
    "df_xc=df.drop(columns=['Crop_Damage'])\n",
    "yc=df[[\"Crop_Damage\"]]"
   ]
  },
  {
   "cell_type": "code",
   "execution_count": 29,
   "metadata": {},
   "outputs": [],
   "source": [
    "#Bring every column to common scale by using Standard Scaler\n",
    "from sklearn.preprocessing import StandardScaler\n",
    "sc = StandardScaler()\n",
    "xc = sc.fit_transform(df_xc)\n",
    "df_xc=pd.DataFrame(xc,columns=df_xc.columns)"
   ]
  },
  {
   "cell_type": "code",
   "execution_count": 30,
   "metadata": {},
   "outputs": [],
   "source": [
    "#defining a function to find accuracy score, crossvalidation score for the given dataset\n",
    "def max_acc_score(names,model_c,df_xc,yc):\n",
    "    accuracy_scr_max = 0\n",
    "    for r_state in range(42,100):\n",
    "        train_xc,test_xc,train_yc,test_yc = train_test_split(df_xc,yc,random_state = r_state,test_size = 0.33,stratify = yc)\n",
    "        model_c.fit(train_xc,train_yc)\n",
    "        accuracy_scr = accuracy_score(test_yc,model_c.predict(test_xc))\n",
    "        if accuracy_scr> accuracy_scr_max:\n",
    "            accuracy_scr_max=accuracy_scr\n",
    "            final_state = r_state\n",
    "            final_model = model_c\n",
    "            mean_acc = cross_val_score(final_model,df_xc,yc,cv=5,scoring=\"accuracy\").mean()\n",
    "            std_dev = cross_val_score(final_model,df_xc,yc,cv=5,scoring=\"accuracy\").std()\n",
    "            cross_val = cross_val_score(final_model,df_xc,yc,cv=5,scoring=\"accuracy\")\n",
    "    print('\\033[1m',\"Results for model : \",names,'\\n','\\033[0m'\n",
    "          \"max accuracy score is\" , accuracy_scr_max ,'\\n',\n",
    "          \"Mean accuracy score is : \",mean_acc,'\\n',\n",
    "          \"Std deviation score is : \",std_dev,'\\n',\n",
    "          \"Cross validation scores are :  \" ,cross_val) \n",
    "    print(\"*\"*100)"
   ]
  },
  {
   "cell_type": "code",
   "execution_count": 31,
   "metadata": {},
   "outputs": [
    {
     "name": "stdout",
     "output_type": "stream",
     "text": [
      "\u001b[1m Results for model :  Random Forest \n",
      " \u001b[0mmax accuracy score is 0.8277520120038194 \n",
      " Mean accuracy score is :  0.8226833756281129 \n",
      " Std deviation score is :  0.0013434214123374823 \n",
      " Cross validation scores are :   [0.82568085 0.82191087 0.82202341 0.82206966 0.82257611]\n",
      "****************************************************************************************************\n",
      "\u001b[1m Results for model :  KNN \n",
      " \u001b[0mmax accuracy score is 0.8303778474969309 \n",
      " Mean accuracy score is :  0.827061142727444 \n",
      " Std deviation score is :  0.0016961545029556733 \n",
      " Cross validation scores are :   [0.82950709 0.82765024 0.82500563 0.82786562 0.82527714]\n",
      "****************************************************************************************************\n",
      "\u001b[1m Results for model :  Decision Tree Classifier \n",
      " \u001b[0mmax accuracy score is 0.753035056608921 \n",
      " Mean accuracy score is :  0.7474284768991878 \n",
      " Std deviation score is :  0.0025696941301892296 \n",
      " Cross validation scores are :   [0.75135044 0.74639883 0.747693   0.74542794 0.74700355]\n",
      "****************************************************************************************************\n",
      "\u001b[1m Results for model :  Gaussian NB \n",
      " \u001b[0mmax accuracy score is 0.8249215659528032 \n",
      " Mean accuracy score is :  0.8212091186402223 \n",
      " Std deviation score is :  0.0017104126392989223 \n",
      " Cross validation scores are :   [0.8239928  0.81859104 0.82117938 0.82105678 0.82122559]\n",
      "****************************************************************************************************\n"
     ]
    }
   ],
   "source": [
    "#Now by using multiple Algorithms we are calculating the best Algo which suit best for our data set \n",
    "accuracy_scr_max = []\n",
    "accuracy=[]\n",
    "std_dev=[]\n",
    "mean_acc=[]\n",
    "cross_val=[]\n",
    "models=[]\n",
    "models.append(('Random Forest', RandomForestClassifier()))\n",
    "models.append(('KNN', KNeighborsClassifier()))\n",
    "models.append(('Decision Tree Classifier', DecisionTreeClassifier()))\n",
    "models.append(('Gaussian NB',GaussianNB()))\n",
    "\n",
    "\n",
    "for names,model_c in models:\n",
    "    max_acc_score(names,model_c,df_xc,yc)"
   ]
  },
  {
   "cell_type": "code",
   "execution_count": 32,
   "metadata": {},
   "outputs": [
    {
     "data": {
      "text/plain": [
       "{'n_neighbors': 22}"
      ]
     },
     "execution_count": 32,
     "metadata": {},
     "output_type": "execute_result"
    }
   ],
   "source": [
    "# Estimating best n_neighbors using grid search CV for KNeighborsClassifier\n",
    "\n",
    "kNN=KNeighborsClassifier()\n",
    "parameters={\"n_neighbors\":range(2,30)}\n",
    "clf = GridSearchCV(kNN, parameters, cv=5,scoring=\"accuracy\")\n",
    "clf.fit(df_xc,yc)\n",
    "clf.best_params_"
   ]
  },
  {
   "cell_type": "code",
   "execution_count": 33,
   "metadata": {},
   "outputs": [
    {
     "name": "stdout",
     "output_type": "stream",
     "text": [
      "\u001b[1m Results for model :  KNeighbors Classifier \n",
      " \u001b[0mmax accuracy score is 0.8431660073659801 \n",
      " Mean accuracy score is :  0.8419838325515553 \n",
      " Std deviation score is :  0.0012446134971586757 \n",
      " Cross validation scores are :   [0.84273014 0.84323655 0.84059194 0.84300264 0.84035789]\n",
      "****************************************************************************************************\n"
     ]
    }
   ],
   "source": [
    "#Again running KNeighborsClassifier with n_neighbor = 22\n",
    "kNN=KNeighborsClassifier(n_neighbors=22)\n",
    "max_acc_score(\"KNeighbors Classifier\",kNN,df_xc,yc)"
   ]
  },
  {
   "cell_type": "code",
   "execution_count": 34,
   "metadata": {},
   "outputs": [],
   "source": [
    "xc_train,xc_test,yc_train,yc_test=train_test_split(df_xc, yc,random_state = 80,test_size=0.20,stratify=yc)\n",
    "kNN.fit(xc_train,yc_train)\n",
    "yc_pred=kNN.predict(xc_test)"
   ]
  },
  {
   "cell_type": "code",
   "execution_count": 35,
   "metadata": {},
   "outputs": [
    {
     "name": "stdout",
     "output_type": "stream",
     "text": [
      "accuracy score is :  0.8405356740940806\n",
      "classification report \n",
      "               precision    recall  f1-score   support\n",
      "\n",
      "           0       0.86      0.98      0.91     14848\n",
      "           1       0.48      0.17      0.25      2461\n",
      "           2       0.33      0.00      0.00       463\n",
      "\n",
      "    accuracy                           0.84     17772\n",
      "   macro avg       0.56      0.38      0.39     17772\n",
      "weighted avg       0.79      0.84      0.80     17772\n",
      "\n"
     ]
    },
    {
     "data": {
      "text/plain": [
       "<AxesSubplot:>"
      ]
     },
     "execution_count": 35,
     "metadata": {},
     "output_type": "execute_result"
    },
    {
     "data": {
      "image/png": "[encoded data removed]",
      "text/plain": [
       "<Figure size 432x288 with 2 Axes>"
      ]
     },
     "metadata": {
      "needs_background": "light"
     },
     "output_type": "display_data"
    }
   ],
   "source": [
    "from sklearn.metrics import confusion_matrix\n",
    "from sklearn.metrics import classification_report\n",
    "from sklearn.metrics import roc_auc_score\n",
    "\n",
    "print(\"accuracy score is : \",accuracy_score(yc_test,yc_pred))\n",
    "print(\"classification report \\n\",classification_report(yc_test,yc_pred))\n",
    "\n",
    "cnf = confusion_matrix(yc_test,yc_pred)\n",
    "sns.heatmap(cnf, annot=True, cmap = \"Blues\")"
   ]
  },
  {
   "cell_type": "code",
   "execution_count": 36,
   "metadata": {},
   "outputs": [
    {
     "name": "stdout",
     "output_type": "stream",
     "text": [
      "0.8400855277965339\n",
      "[[14830    18     0]\n",
      " [ 2361   100     0]\n",
      " [  429    34     0]]\n",
      "              precision    recall  f1-score   support\n",
      "\n",
      "           0       0.84      1.00      0.91     14848\n",
      "           1       0.66      0.04      0.08      2461\n",
      "           2       0.00      0.00      0.00       463\n",
      "\n",
      "    accuracy                           0.84     17772\n",
      "   macro avg       0.50      0.35      0.33     17772\n",
      "weighted avg       0.79      0.84      0.77     17772\n",
      "\n"
     ]
    }
   ],
   "source": [
    "#Using adaboost classifier\n",
    "from sklearn.ensemble import AdaBoostClassifier\n",
    "ad=AdaBoostClassifier(n_estimators=10,learning_rate=1)\n",
    "ad.fit(xc_train,yc_train)\n",
    "ad_pred=ad.predict(xc_test)\n",
    "print(accuracy_score(yc_test,ad_pred))\n",
    "print(confusion_matrix(yc_test,ad_pred))\n",
    "print(classification_report(yc_test,ad_pred))"
   ]
  },
  {
   "cell_type": "code",
   "execution_count": null,
   "metadata": {},
   "outputs": [],
   "source": []
  }
 ],
 "metadata": {
  "kernelspec": {
   "display_name": "Python 3.8.8 ('python36')",
   "language": "python",
   "name": "python3"
  },
  "language_info": {
   "codemirror_mode": {
    "name": "ipython",
    "version": 3
   },
   "file_extension": ".py",
   "mimetype": "text/x-python",
   "name": "python",
   "nbconvert_exporter": "python",
   "pygments_lexer": "ipython3",
   "version": "3.8.8"
  },
  "orig_nbformat": 4,
  "vscode": {
   "interpreter": {
    "hash": "8209adf3fd346f84075c69ee7a3942e6ac09fe65aa6b26402a7edd518fd803d4"
   }
  }
 },
 "nbformat": 4,
 "nbformat_minor": 2
}
