{
 "cells": [
  {
   "cell_type": "code",
   "execution_count": null,
   "metadata": {},
   "outputs": [],
   "source": []
  },
  {
   "cell_type": "markdown",
   "metadata": {},
   "source": [
    "- 이상치 제거\n",
    "- train-test split\n",
    "- 데이터 핸들링\n",
    "- one-hot 인코딩\n",
    "- 간단한 "
   ]
  }
 ],
 "metadata": {
  "kernelspec": {
   "display_name": "Python 3.8.8 ('python36')",
   "language": "python",
   "name": "python3"
  },
  "language_info": {
   "name": "python",
   "version": "3.8.8"
  },
  "orig_nbformat": 4,
  "vscode": {
   "interpreter": {
    "hash": "8209adf3fd346f84075c69ee7a3942e6ac09fe65aa6b26402a7edd518fd803d4"
   }
  }
 },
 "nbformat": 4,
 "nbformat_minor": 2
}
